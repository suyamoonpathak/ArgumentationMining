{
 "cells": [
  {
   "cell_type": "code",
   "execution_count": 1,
   "metadata": {},
   "outputs": [],
   "source": [
    "import fitz  \n",
    "import os\n",
    "\n",
    "def convert_pdf_to_text(pdf_path, output_path=None):\n",
    "    if output_path is None:\n",
    "        output_path = os.path.splitext(pdf_path)[0] + '.txt'\n",
    "    \n",
    "    doc = fitz.open(pdf_path)\n",
    "    \n",
    "    with open(output_path, 'w', encoding='utf-8') as text_file:\n",
    "        for page_num in range(len(doc)):\n",
    "            page = doc[page_num]\n",
    "            text = page.get_text(\"text\")\n",
    "            text_file.write(text + '\\n\\n')\n",
    "    \n",
    "    print(f\"Successfully converted '{pdf_path}' to '{output_path}'\")\n",
    "    return output_path"
   ]
  },
  {
   "cell_type": "code",
   "execution_count": 2,
   "metadata": {},
   "outputs": [
    {
     "name": "stdout",
     "output_type": "stream",
     "text": [
      "Successfully converted 'R2002_Associação dos Refinadores de Açúcar Portugueses.pdf' to 'R2002_Associação dos Refinadores de Açúcar Portugueses.txt'\n"
     ]
    },
    {
     "data": {
      "text/plain": [
       "'R2002_Associação dos Refinadores de Açúcar Portugueses.txt'"
      ]
     },
     "execution_count": 2,
     "metadata": {},
     "output_type": "execute_result"
    }
   ],
   "source": [
    "pdf_path = \"R2002_Associação dos Refinadores de Açúcar Portugueses.pdf\"\n",
    "convert_pdf_to_text(pdf_path, \"R2002_Associação dos Refinadores de Açúcar Portugueses.txt\")"
   ]
  },
  {
   "cell_type": "code",
   "execution_count": null,
   "metadata": {},
   "outputs": [],
   "source": []
  }
 ],
 "metadata": {
  "kernelspec": {
   "display_name": "base",
   "language": "python",
   "name": "python3"
  },
  "language_info": {
   "codemirror_mode": {
    "name": "ipython",
    "version": 3
   },
   "file_extension": ".py",
   "mimetype": "text/x-python",
   "name": "python",
   "nbconvert_exporter": "python",
   "pygments_lexer": "ipython3",
   "version": "3.12.2"
  }
 },
 "nbformat": 4,
 "nbformat_minor": 2
}
