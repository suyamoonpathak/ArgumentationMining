{
 "cells": [
  {
   "cell_type": "code",
   "execution_count": 3,
   "id": "7aa8d7c5",
   "metadata": {},
   "outputs": [
    {
     "name": "stdout",
     "output_type": "stream",
     "text": [
      "Classification report saved to output/classification_report.txt\n",
      "Confusion matrix saved to output/confusion_matrix.png\n"
     ]
    }
   ],
   "source": [
    "import os\n",
    "import pandas as pd\n",
    "import numpy as np\n",
    "import matplotlib.pyplot as plt\n",
    "import seaborn as sns\n",
    "from sklearn.metrics import (\n",
    "    classification_report,\n",
    "    confusion_matrix,\n",
    ")\n",
    "\n",
    "\n",
    "def save_classification_report(predictions, labels, output_dir):\n",
    "    report = classification_report(\n",
    "        labels, predictions,\n",
    "        target_names=[\"conclusion\", \"non-argumentative\", \"premise\"]\n",
    "    )\n",
    "\n",
    "    with open(f\"{output_dir}/classification_report.txt\", \"w\") as f:\n",
    "        f.write(report)\n",
    "\n",
    "\n",
    "def plot_confusion_matrix(y_true, y_pred, output_path):\n",
    "    cm = confusion_matrix(y_true, y_pred, labels=[\"non-argumentative\", \"premise\", \"conclusion\"])\n",
    "\n",
    "    labels = np.array([\n",
    "        ['(TP)', '(FN)', '(FN)'],\n",
    "        ['(FP)', '(TP)', '(FN)'],\n",
    "        ['(FP)', '(FP)', '(TP)']\n",
    "    ])\n",
    "\n",
    "    # Fix: Create annotation array properly\n",
    "    annot = np.empty_like(labels, dtype=object)\n",
    "    for i in range(labels.shape[0]):\n",
    "        for j in range(labels.shape[1]):\n",
    "            annot[i, j] = f\"{labels[i, j]}\\n{cm[i, j]}\"\n",
    "\n",
    "    plt.figure(figsize=(8, 6))\n",
    "    sns.heatmap(cm, annot=annot, fmt='', cmap=\"Blues\",\n",
    "                xticklabels=[\"Predicted Non-Arg\", \"Predicted Premise\", \"Predicted Conclusion\"],\n",
    "                yticklabels=[\"Actual Non-Arg\", \"Actual Premise\", \"Actual Conclusion\"])\n",
    "    plt.xlabel('Prediction')\n",
    "    plt.ylabel('Ground Truth')\n",
    "    plt.title('Confusion Matrix for Three-Way Classification')\n",
    "    plt.tight_layout()\n",
    "    plt.savefig(output_path)\n",
    "    plt.close()\n",
    "\n",
    "\n",
    "def main():\n",
    "    folder_path = 'predictions'\n",
    "    all_actual_labels = []\n",
    "    all_predicted_labels = []\n",
    "\n",
    "    # Read all CSV files from the predictions folder\n",
    "    for file_name in os.listdir(folder_path):\n",
    "        if file_name.endswith('.csv'):\n",
    "            file_path = os.path.join(folder_path, file_name)\n",
    "            df = pd.read_csv(file_path)\n",
    "            all_actual_labels.extend(df['actual_label'].tolist())\n",
    "            all_predicted_labels.extend(df['predicted_label'].tolist())\n",
    "\n",
    "    # Create output directory\n",
    "    output_dir = 'output'\n",
    "    os.makedirs(output_dir, exist_ok=True)\n",
    "\n",
    "    # Save classification report and confusion matrix\n",
    "    save_classification_report(all_predicted_labels, all_actual_labels, output_dir)\n",
    "    plot_confusion_matrix(all_actual_labels, all_predicted_labels, f\"{output_dir}/confusion_matrix.png\")\n",
    "\n",
    "    print(f\"Classification report saved to {output_dir}/classification_report.txt\")\n",
    "    print(f\"Confusion matrix saved to {output_dir}/confusion_matrix.png\")\n",
    "\n",
    "\n",
    "if __name__ == '__main__':\n",
    "    main()\n"
   ]
  },
  {
   "cell_type": "code",
   "execution_count": null,
   "id": "27bb9445",
   "metadata": {},
   "outputs": [],
   "source": []
  }
 ],
 "metadata": {
  "kernelspec": {
   "display_name": "argmining",
   "language": "python",
   "name": "python3"
  },
  "language_info": {
   "codemirror_mode": {
    "name": "ipython",
    "version": 3
   },
   "file_extension": ".py",
   "mimetype": "text/x-python",
   "name": "python",
   "nbconvert_exporter": "python",
   "pygments_lexer": "ipython3",
   "version": "3.12.9"
  }
 },
 "nbformat": 4,
 "nbformat_minor": 5
}
