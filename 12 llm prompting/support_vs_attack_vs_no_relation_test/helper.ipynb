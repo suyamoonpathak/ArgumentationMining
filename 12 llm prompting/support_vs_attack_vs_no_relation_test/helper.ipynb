{
 "cells": [
  {
   "cell_type": "code",
   "execution_count": 1,
   "id": "90ef8abc",
   "metadata": {},
   "outputs": [
    {
     "name": "stdout",
     "output_type": "stream",
     "text": [
      "Original data distribution:\n",
      "relation\n",
      "no-relation    2925\n",
      "support        1846\n",
      "attack          118\n",
      "Name: count, dtype: int64\n",
      "\n",
      "New sampled data distribution:\n",
      "relation\n",
      "no-relation    610\n",
      "support        460\n",
      "attack          30\n",
      "Name: count, dtype: int64\n",
      "\n",
      "Total rows in new dataset: 1100\n",
      "New CSV file 'sampled_data.csv' has been created successfully!\n"
     ]
    }
   ],
   "source": [
    "import pandas as pd\n",
    "import numpy as np\n",
    "\n",
    "# Set random seed for reproducibility\n",
    "np.random.seed(42)\n",
    "\n",
    "# Load the original CSV file\n",
    "data = pd.read_csv('all_data.csv')\n",
    "\n",
    "# Define the target counts for each relation type\n",
    "target_counts = {\n",
    "    'support': 460,\n",
    "    'attack': 30,\n",
    "    'no-relation': 610\n",
    "}\n",
    "\n",
    "# Create an empty list to store sampled data\n",
    "sampled_data = []\n",
    "\n",
    "# Sample from each relation type\n",
    "for relation_type, count in target_counts.items():\n",
    "    # Filter data for the current relation type\n",
    "    relation_data = data[data['relation'] == relation_type]\n",
    "    \n",
    "    # Check if we have enough data for sampling\n",
    "    if len(relation_data) < count:\n",
    "        print(f\"Warning: Only {len(relation_data)} rows available for '{relation_type}', but {count} requested\")\n",
    "        sampled_relation = relation_data\n",
    "    else:\n",
    "        # Randomly sample the required number of rows\n",
    "        sampled_relation = relation_data.sample(n=count, random_state=42)\n",
    "    \n",
    "    sampled_data.append(sampled_relation)\n",
    "\n",
    "# Combine all sampled data\n",
    "final_data = pd.concat(sampled_data, ignore_index=True)\n",
    "\n",
    "# Shuffle the final dataset to randomize row order\n",
    "final_data = final_data.sample(frac=1, random_state=42).reset_index(drop=True)\n",
    "\n",
    "# Save to new CSV file\n",
    "final_data.to_csv('sampled_data.csv', index=False)\n",
    "\n",
    "# Display summary statistics\n",
    "print(\"Original data distribution:\")\n",
    "print(data['relation'].value_counts())\n",
    "print(\"\\nNew sampled data distribution:\")\n",
    "print(final_data['relation'].value_counts())\n",
    "print(f\"\\nTotal rows in new dataset: {len(final_data)}\")\n",
    "print(\"New CSV file 'sampled_data.csv' has been created successfully!\")\n"
   ]
  },
  {
   "cell_type": "code",
   "execution_count": null,
   "id": "c125e1db",
   "metadata": {},
   "outputs": [],
   "source": []
  }
 ],
 "metadata": {
  "kernelspec": {
   "display_name": "argmining",
   "language": "python",
   "name": "python3"
  },
  "language_info": {
   "codemirror_mode": {
    "name": "ipython",
    "version": 3
   },
   "file_extension": ".py",
   "mimetype": "text/x-python",
   "name": "python",
   "nbconvert_exporter": "python",
   "pygments_lexer": "ipython3",
   "version": "3.12.9"
  }
 },
 "nbformat": 4,
 "nbformat_minor": 5
}
