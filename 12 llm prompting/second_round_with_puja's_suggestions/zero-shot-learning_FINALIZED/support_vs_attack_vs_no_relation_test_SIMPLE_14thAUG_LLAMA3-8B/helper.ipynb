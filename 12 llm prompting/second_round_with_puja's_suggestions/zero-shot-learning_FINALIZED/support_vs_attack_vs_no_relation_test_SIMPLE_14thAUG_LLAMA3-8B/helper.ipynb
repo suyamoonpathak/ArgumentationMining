{
 "cells": [
  {
   "cell_type": "code",
   "execution_count": 1,
   "id": "90ef8abc",
   "metadata": {},
   "outputs": [
    {
     "name": "stdout",
     "output_type": "stream",
     "text": [
      "Original data distribution:\n",
      "relation\n",
      "no-relation    2925\n",
      "support        1846\n",
      "attack          118\n",
      "Name: count, dtype: int64\n",
      "\n",
      "New sampled data distribution:\n",
      "relation\n",
      "no-relation    610\n",
      "support        460\n",
      "attack          30\n",
      "Name: count, dtype: int64\n",
      "\n",
      "Total rows in new dataset: 1100\n",
      "New CSV file 'sampled_data.csv' has been created successfully!\n"
     ]
    }
   ],
   "source": [
    "import pandas as pd\n",
    "import numpy as np\n",
    "\n",
    "# Set random seed for reproducibility\n",
    "np.random.seed(42)\n",
    "\n",
    "# Load the original CSV file\n",
    "data = pd.read_csv('all_data.csv')\n",
    "\n",
    "# Define the target counts for each relation type\n",
    "target_counts = {\n",
    "    'support': 460,\n",
    "    'attack': 30,\n",
    "    'no-relation': 610\n",
    "}\n",
    "\n",
    "# Create an empty list to store sampled data\n",
    "sampled_data = []\n",
    "\n",
    "# Sample from each relation type\n",
    "for relation_type, count in target_counts.items():\n",
    "    # Filter data for the current relation type\n",
    "    relation_data = data[data['relation'] == relation_type]\n",
    "    \n",
    "    # Check if we have enough data for sampling\n",
    "    if len(relation_data) < count:\n",
    "        print(f\"Warning: Only {len(relation_data)} rows available for '{relation_type}', but {count} requested\")\n",
    "        sampled_relation = relation_data\n",
    "    else:\n",
    "        # Randomly sample the required number of rows\n",
    "        sampled_relation = relation_data.sample(n=count, random_state=42)\n",
    "    \n",
    "    sampled_data.append(sampled_relation)\n",
    "\n",
    "# Combine all sampled data\n",
    "final_data = pd.concat(sampled_data, ignore_index=True)\n",
    "\n",
    "# Shuffle the final dataset to randomize row order\n",
    "final_data = final_data.sample(frac=1, random_state=42).reset_index(drop=True)\n",
    "\n",
    "# Save to new CSV file\n",
    "final_data.to_csv('sampled_data.csv', index=False)\n",
    "\n",
    "# Display summary statistics\n",
    "print(\"Original data distribution:\")\n",
    "print(data['relation'].value_counts())\n",
    "print(\"\\nNew sampled data distribution:\")\n",
    "print(final_data['relation'].value_counts())\n",
    "print(f\"\\nTotal rows in new dataset: {len(final_data)}\")\n",
    "print(\"New CSV file 'sampled_data.csv' has been created successfully!\")\n"
   ]
  },
  {
   "cell_type": "code",
   "execution_count": 1,
   "id": "c125e1db",
   "metadata": {},
   "outputs": [
    {
     "name": "stderr",
     "output_type": "stream",
     "text": [
      "/home/suyamoon/data/miniconda3/envs/argmining/lib/python3.12/site-packages/seaborn/_statistics.py:32: UserWarning: A NumPy version >=1.22.4 and <2.3.0 is required for this version of SciPy (detected version 2.3.1)\n",
      "  from scipy.stats import gaussian_kde\n"
     ]
    },
    {
     "name": "stdout",
     "output_type": "stream",
     "text": [
      "Classification Report:\n",
      "              precision    recall  f1-score   support\n",
      "\n",
      "      attack       0.12      0.43      0.19        30\n",
      " no-relation       0.70      0.63      0.66       610\n",
      "     support       0.60      0.59      0.59       460\n",
      "\n",
      "    accuracy                           0.60      1100\n",
      "   macro avg       0.47      0.55      0.48      1100\n",
      "weighted avg       0.64      0.60      0.62      1100\n",
      "\n"
     ]
    },
    {
     "data": {
      "image/png": "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