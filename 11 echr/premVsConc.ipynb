{
 "cells": [
  {
   "cell_type": "code",
   "execution_count": 3,
   "id": "067d740b",
   "metadata": {},
   "outputs": [],
   "source": [
    "import json\n",
    "import csv\n",
    "\n",
    "# Load the JSON file\n",
    "with open('ECHR_Corpus.json', 'r', encoding='utf-8') as file:\n",
    "    data = json.load(file)\n",
    "\n",
    "# Function to extract text from clauses based on start and end indices\n",
    "# and create CSV files for each case\n",
    "def create_csv_files(data):\n",
    "    for case in data:\n",
    "        case_name = case['name'].replace('.txt', '')  # Remove .txt from name for csv file\n",
    "        clauses = case['clauses']\n",
    "        arguments = case['arguments']\n",
    "        text = case['text']\n",
    "\n",
    "        # Create a dictionary for quick clause id to text mapping\n",
    "        clause_text_map = {}\n",
    "        for clause in clauses:\n",
    "            start = clause['start']\n",
    "            end = clause['end']\n",
    "            clause_text_map[clause['_id']] = text[start:end]\n",
    "\n",
    "        # Open CSV file for writing\n",
    "        with open(f'{case_name}.csv', 'w', newline='', encoding='utf-8') as csvfile:\n",
    "            writer = csv.writer(csvfile)\n",
    "            writer.writerow(['text', 'label'])  # Write header\n",
    "\n",
    "            # Iterate over each subargument\n",
    "            for subarg in arguments:\n",
    "                premises = subarg.get('premises', [])\n",
    "                conclusion = subarg.get('conclusion', '')  # Get single conclusion ID\n",
    "\n",
    "                # Write premises\n",
    "                for pid in premises:\n",
    "                    if pid in clause_text_map:\n",
    "                        writer.writerow([clause_text_map[pid], 'premise'])\n",
    "\n",
    "                # Write conclusion (single item, not a list)\n",
    "                if conclusion and conclusion in clause_text_map:\n",
    "                    writer.writerow([clause_text_map[conclusion], 'conclusion'])\n",
    "\n",
    "                # Write an empty line after each subargument\n",
    "                writer.writerow(['', ''])\n",
    "\n",
    "# Call the function to create CSV files\n",
    "create_csv_files(data)\n"
   ]
  },
  {
   "cell_type": "code",
   "execution_count": null,
   "id": "4426c665",
   "metadata": {},
   "outputs": [],
   "source": []
  }
 ],
 "metadata": {
  "kernelspec": {
   "display_name": "base",
   "language": "python",
   "name": "python3"
  },
  "language_info": {
   "codemirror_mode": {
    "name": "ipython",
    "version": 3
   },
   "file_extension": ".py",
   "mimetype": "text/x-python",
   "name": "python",
   "nbconvert_exporter": "python",
   "pygments_lexer": "ipython3",
   "version": "3.12.2"
  }
 },
 "nbformat": 4,
 "nbformat_minor": 5
}
