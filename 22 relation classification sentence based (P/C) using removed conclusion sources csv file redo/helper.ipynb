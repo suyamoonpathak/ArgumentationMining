{
 "cells": [
  {
   "cell_type": "code",
   "execution_count": 1,
   "id": "23f28404",
   "metadata": {},
   "outputs": [
    {
     "name": "stdout",
     "output_type": "stream",
     "text": [
      "Filtered rows have been saved to 'filtered_all_removed_conclusion_source_and_NA.csv'.\n"
     ]
    }
   ],
   "source": [
    "import pandas as pd\n",
    "\n",
    "# Load the CSV file\n",
    "df = pd.read_csv('filtered_all_removed_conclusion_source.csv')\n",
    "\n",
    "# Filter out rows where source_type or target_type is 'non-argumentative'\n",
    "filtered_df = df[(df['source_type'] != 'non-argumentative') & (df['target_type'] != 'non-argumentative')]\n",
    "\n",
    "# Save the filtered DataFrame to a new CSV file\n",
    "filtered_df.to_csv('filtered_all_removed_conclusion_source_and_NA.csv', index=False)\n",
    "\n",
    "print(\"Filtered rows have been saved to 'filtered_all_removed_conclusion_source_and_NA.csv'.\")\n"
   ]
  },
  {
   "cell_type": "code",
   "execution_count": 2,
   "id": "0a83984b",
   "metadata": {},
   "outputs": [
    {
     "name": "stdout",
     "output_type": "stream",
     "text": [
      "Support count: 1568\n",
      "Attack count: 120\n",
      "No-relation count: 433\n"
     ]
    }
   ],
   "source": [
    "import pandas as pd\n",
    "\n",
    "# Load the filtered CSV file\n",
    "df = pd.read_csv('filtered_all_removed_conclusion_source_and_NA.csv')\n",
    "\n",
    "# Count occurrences of each relation type in the 'relation' column\n",
    "relation_counts = df['relation'].value_counts()\n",
    "\n",
    "# Extract counts for 'support', 'attack', and 'no-relation'\n",
    "support_count = relation_counts.get('support', 0)\n",
    "attack_count = relation_counts.get('attack', 0)\n",
    "no_relation_count = relation_counts.get('no-relation', 0)\n",
    "\n",
    "# Print the counts\n",
    "print(f\"Support count: {support_count}\")\n",
    "print(f\"Attack count: {attack_count}\")\n",
    "print(f\"No-relation count: {no_relation_count}\")\n"
   ]
  },
  {
   "cell_type": "code",
   "execution_count": 3,
   "id": "4f3444e0",
   "metadata": {},
   "outputs": [
    {
     "name": "stdout",
     "output_type": "stream",
     "text": [
      "Number of unique premise texts: 985\n",
      "Number of unique conclusion texts: 33\n"
     ]
    }
   ],
   "source": [
    "import pandas as pd\n",
    "\n",
    "# Load the filtered CSV file\n",
    "df = pd.read_csv('filtered_all_removed_conclusion_source_and_NA.csv')\n",
    "\n",
    "# Get unique premise texts (source_type == 'premise')\n",
    "unique_premises = df[df['source_type'] == 'premise']['source_text'].drop_duplicates()\n",
    "\n",
    "# Get unique conclusion texts (target_type == 'conclusion')\n",
    "unique_conclusions = df[df['target_type'] == 'conclusion']['target_text'].drop_duplicates()\n",
    "\n",
    "# Count the number of unique premise and conclusion texts\n",
    "num_unique_premises = unique_premises.shape[0]\n",
    "num_unique_conclusions = unique_conclusions.shape[0]\n",
    "\n",
    "# Print the results\n",
    "print(f\"Number of unique premise texts: {num_unique_premises}\")\n",
    "print(f\"Number of unique conclusion texts: {num_unique_conclusions}\")\n"
   ]
  },
  {
   "cell_type": "code",
   "execution_count": null,
   "id": "23b33e48",
   "metadata": {},
   "outputs": [],
   "source": []
  }
 ],
 "metadata": {
  "kernelspec": {
   "display_name": "base",
   "language": "python",
   "name": "python3"
  },
  "language_info": {
   "codemirror_mode": {
    "name": "ipython",
    "version": 3
   },
   "file_extension": ".py",
   "mimetype": "text/x-python",
   "name": "python",
   "nbconvert_exporter": "python",
   "pygments_lexer": "ipython3",
   "version": "3.12.2"
  }
 },
 "nbformat": 4,
 "nbformat_minor": 5
}
