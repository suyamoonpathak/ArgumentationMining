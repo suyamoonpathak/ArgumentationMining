{
 "cells": [
  {
   "cell_type": "code",
   "execution_count": 2,
   "id": "fa2c11f8",
   "metadata": {},
   "outputs": [
    {
     "data": {
      "text/plain": [
       "PosixPath('/home/suyamoon/Documents/Laptop_SSD files/IITK/Second Sem/Thesis Research/Work with Shivani/10 final/1 arg_vs_non-arg/scripts')"
      ]
     },
     "execution_count": 2,
     "metadata": {},
     "output_type": "execute_result"
    }
   ],
   "source": [
    "from pathlib import Path\n",
    "\n",
    "SCRIPT_DIR = Path('.').parent.resolve()\n",
    "SCRIPT_DIR"
   ]
  },
  {
   "cell_type": "code",
   "execution_count": 3,
   "id": "8e88dfed",
   "metadata": {},
   "outputs": [
    {
     "data": {
      "text/plain": [
       "PosixPath('/home/suyamoon/Documents/Laptop_SSD files/IITK/Second Sem/Thesis Research/Work with Shivani/10 final/1 arg_vs_non-arg/data')"
      ]
     },
     "execution_count": 3,
     "metadata": {},
     "output_type": "execute_result"
    }
   ],
   "source": [
    "DATA_DIR = SCRIPT_DIR.parent / \"data\"\n",
    "DATA_DIR"
   ]
  },
  {
   "cell_type": "code",
   "execution_count": 5,
   "id": "f7b1f328",
   "metadata": {},
   "outputs": [
    {
     "data": {
      "text/plain": [
       "PosixPath('/home/suyamoon/Documents/Laptop_SSD files/IITK/Second Sem/Thesis Research/Work with Shivani/10 final/1 arg_vs_non-arg/data/all')"
      ]
     },
     "execution_count": 5,
     "metadata": {},
     "output_type": "execute_result"
    }
   ],
   "source": [
    "ALL_DATA_DIR = DATA_DIR / \"all\"  # New directory containing all 40 files\n",
    "RESULTS_DIR = SCRIPT_DIR.parent / \"results\"\n",
    "\n",
    "\n",
    "ALL_DATA_DIR\n"
   ]
  },
  {
   "cell_type": "code",
   "execution_count": 6,
   "id": "1d695eb7",
   "metadata": {},
   "outputs": [
    {
     "data": {
      "text/plain": [
       "PosixPath('/home/suyamoon/Documents/Laptop_SSD files/IITK/Second Sem/Thesis Research/Work with Shivani/10 final/1 arg_vs_non-arg/results')"
      ]
     },
     "execution_count": 6,
     "metadata": {},
     "output_type": "execute_result"
    }
   ],
   "source": [
    "RESULTS_DIR"
   ]
  },
  {
   "cell_type": "code",
   "execution_count": null,
   "id": "21fcb6f7",
   "metadata": {},
   "outputs": [],
   "source": []
  }
 ],
 "metadata": {
  "kernelspec": {
   "display_name": "base",
   "language": "python",
   "name": "python3"
  },
  "language_info": {
   "codemirror_mode": {
    "name": "ipython",
    "version": 3
   },
   "file_extension": ".py",
   "mimetype": "text/x-python",
   "name": "python",
   "nbconvert_exporter": "python",
   "pygments_lexer": "ipython3",
   "version": "3.12.2"
  }
 },
 "nbformat": 4,
 "nbformat_minor": 5
}
