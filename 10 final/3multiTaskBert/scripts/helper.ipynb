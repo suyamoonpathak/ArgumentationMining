{
 "cells": [
  {
   "cell_type": "code",
   "execution_count": 2,
   "id": "9e3d8841",
   "metadata": {},
   "outputs": [
    {
     "name": "stdout",
     "output_type": "stream",
     "text": [
      "Average F1 Scores by Task:\n",
      "Relation: 0.55\n",
      "Source: 0.72\n",
      "Target: 0.68\n",
      "Average Precision by Task:\n",
      "Relation: 0.55\n",
      "Source: 0.73\n",
      "Target: 0.67\n",
      "Average Recall by Task:\n",
      "Relation: 0.59\n",
      "Source: 0.74\n",
      "Target: 0.74\n",
      "Average Accuracy by Task:\n",
      "Relation: 0.74\n",
      "Source: 0.73\n",
      "Target: 0.76\n",
      "\n",
      "As dictionary:\n",
      "{'Relation': 0.5519999999999999, 'Source': 0.728, 'Target': 0.673}\n",
      "{'Relation': 0.588, 'Source': 0.742, 'Target': 0.741}\n",
      "{'Relation': 0.545, 'Source': 0.721, 'Target': 0.6839999999999999}\n",
      "*******\n",
      "{'Relation': 0.738, 'Source': 0.731, 'Target': 0.763}\n"
     ]
    }
   ],
   "source": [
    "import pandas as pd\n",
    "\n",
    "# Load the CSV file\n",
    "data = pd.read_csv('4multi_task_roberta_classification_report.csv')\n",
    "\n",
    "# Calculate the average F1 score for each task\n",
    "average_f1_scores = data.groupby('task')['f1-score'].mean()\n",
    "average_precision = data.groupby('task')['precision'].mean()\n",
    "average_recall = data.groupby('task')['recall'].mean()\n",
    "average_accuracy = data.groupby('task')['accuracy'].mean()\n",
    "\n",
    "\n",
    "print(\"Average F1 Scores by Task:\")\n",
    "print(f\"Relation: {average_f1_scores['Relation']:.2f}\")\n",
    "print(f\"Source: {average_f1_scores['Source']:.2f}\")\n",
    "print(f\"Target: {average_f1_scores['Target']:.2f}\")\n",
    "\n",
    "\n",
    "print(\"Average Precision by Task:\")\n",
    "print(f\"Relation: {average_precision['Relation']:.2f}\")\n",
    "print(f\"Source: {average_precision['Source']:.2f}\")\n",
    "print(f\"Target: {average_precision['Target']:.2f}\")\n",
    "\n",
    "print(\"Average Recall by Task:\")\n",
    "print(f\"Relation: {average_recall['Relation']:.2f}\")\n",
    "print(f\"Source: {average_recall['Source']:.2f}\")\n",
    "print(f\"Target: {average_recall['Target']:.2f}\")\n",
    "\n",
    "print(\"Average Accuracy by Task:\")\n",
    "print(f\"Relation: {average_accuracy['Relation']:.2f}\")\n",
    "print(f\"Source: {average_accuracy['Source']:.2f}\")\n",
    "print(f\"Target: {average_accuracy['Target']:.2f}\")\n",
    "\n",
    "# Optional: Display as a dictionary\n",
    "print(\"\\nAs dictionary:\")\n",
    "\n",
    "print(average_precision.to_dict())\n",
    "print(average_recall.to_dict())\n",
    "print(average_f1_scores.to_dict())\n",
    "print(\"*******\")\n",
    "print(average_accuracy.to_dict())"
   ]
  },
  {
   "cell_type": "code",
   "execution_count": null,
   "id": "ce038755",
   "metadata": {},
   "outputs": [],
   "source": []
  }
 ],
 "metadata": {
  "kernelspec": {
   "display_name": "argmining",
   "language": "python",
   "name": "python3"
  },
  "language_info": {
   "codemirror_mode": {
    "name": "ipython",
    "version": 3
   },
   "file_extension": ".py",
   "mimetype": "text/x-python",
   "name": "python",
   "nbconvert_exporter": "python",
   "pygments_lexer": "ipython3",
   "version": "3.12.9"
  }
 },
 "nbformat": 4,
 "nbformat_minor": 5
}
