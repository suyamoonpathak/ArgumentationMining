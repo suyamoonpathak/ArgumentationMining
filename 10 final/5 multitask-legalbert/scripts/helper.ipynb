{
 "cells": [
  {
   "cell_type": "code",
   "execution_count": 1,
   "id": "9e3d8841",
   "metadata": {},
   "outputs": [
    {
     "name": "stdout",
     "output_type": "stream",
     "text": [
      "Average Precision by Task:\n",
      "Source: 0.76\n",
      "Target: 0.82\n",
      "Relation: 0.63\n",
      "Average Recall by Task:\n",
      "Source: 0.79\n",
      "Target: 0.84\n",
      "Relation: 0.69\n",
      "Average F1 Scores by Task:\n",
      "Source: 0.76\n",
      "Target: 0.82\n",
      "Relation: 0.64\n",
      "Average Accuracy by Task:\n",
      "Source: 0.82\n",
      "Target: 0.81\n",
      "Relation: 0.85\n",
      "\n",
      "As dictionary:\n",
      "{'Relation': 0.63, 'Source': 0.76, 'Target': 0.8230000000000001}\n",
      "{'Relation': 0.689, 'Source': 0.7889999999999999, 'Target': 0.841}\n",
      "{'Relation': 0.639, 'Source': 0.757, 'Target': 0.819}\n"
     ]
    }
   ],
   "source": [
    "import pandas as pd\n",
    "\n",
    "# Load the CSV file\n",
    "data = pd.read_csv('multi_task_classification_report.csv')\n",
    "\n",
    "# Calculate the average F1 score for each task\n",
    "average_f1_scores = data.groupby('task')['f1-score'].mean()\n",
    "average_precision = data.groupby('task')['precision'].mean()\n",
    "average_recall = data.groupby('task')['recall'].mean()\n",
    "average_accuracy = data.groupby('task')['accuracy'].mean()\n",
    "\n",
    "\n",
    "print(\"Average Precision by Task:\")\n",
    "print(f\"Source: {average_precision['Source']:.2f}\")\n",
    "print(f\"Target: {average_precision['Target']:.2f}\")\n",
    "print(f\"Relation: {average_precision['Relation']:.2f}\")\n",
    "\n",
    "print(\"Average Recall by Task:\")\n",
    "print(f\"Source: {average_recall['Source']:.2f}\")\n",
    "print(f\"Target: {average_recall['Target']:.2f}\")\n",
    "print(f\"Relation: {average_recall['Relation']:.2f}\")\n",
    "\n",
    "print(\"Average F1 Scores by Task:\")\n",
    "print(f\"Source: {average_f1_scores['Source']:.2f}\")\n",
    "print(f\"Target: {average_f1_scores['Target']:.2f}\")\n",
    "print(f\"Relation: {average_f1_scores['Relation']:.2f}\")\n",
    "\n",
    "print(f\"Average Accuracy by Task:\")\n",
    "print(f\"Source: {average_accuracy['Source']:.2f}\")\n",
    "print(f\"Target: {average_accuracy['Target']:.2f}\")\n",
    "print(f\"Relation: {average_accuracy['Relation']:.2f}\")\n",
    "\n",
    "\n",
    "# Optional: Display as a dictionary\n",
    "print(\"\\nAs dictionary:\")\n",
    "\n",
    "print(average_precision.to_dict())\n",
    "print(average_recall.to_dict())\n",
    "print(average_f1_scores.to_dict())"
   ]
  },
  {
   "cell_type": "code",
   "execution_count": 1,
   "id": "ce038755",
   "metadata": {},
   "outputs": [
    {
     "name": "stdout",
     "output_type": "stream",
     "text": [
      "File saved as: filtered_relations_dataset_removed_conclusion_source.csv\n"
     ]
    }
   ],
   "source": [
    "import pandas as pd\n",
    "\n",
    "def remove_conclusion_premise_rows(input_file, output_file):\n",
    "    try:\n",
    "        # Read the input CSV file\n",
    "        df = pd.read_csv(input_file)\n",
    "        \n",
    "        # Create the type pair column\n",
    "        df['type_pair'] = df['source_type'] + '-' + df['target_type']\n",
    "        \n",
    "        # Filter out rows where the type_pair is 'conclusion-premise'\n",
    "        filtered_df = df[df['type_pair'] != 'conclusion-premise']\n",
    "        \n",
    "        # Save the filtered data to a new file\n",
    "        filtered_df.to_csv(output_file, index=False)\n",
    "        print(f\"File saved as: {output_file}\")\n",
    "        \n",
    "    except FileNotFoundError:\n",
    "        print(f\"Error: File '{input_file}' not found.\")\n",
    "        print(\"Please verify:\")\n",
    "        print(\"1. The file exists in the current directory\")\n",
    "        print(\"2. You're using the correct filename (case-sensitive)\")\n",
    "        print(\"3. The file path is correct\")\n",
    "        \n",
    "# Apply the function to train and test files\n",
    "remove_conclusion_premise_rows('balanced_relations_dataset.csv', 'filtered_relations_dataset_removed_conclusion_source.csv')\n"
   ]
  },
  {
   "cell_type": "code",
   "execution_count": null,
   "id": "1bf99ff7",
   "metadata": {},
   "outputs": [],
   "source": []
  }
 ],
 "metadata": {
  "kernelspec": {
   "display_name": "argmining",
   "language": "python",
   "name": "python3"
  },
  "language_info": {
   "codemirror_mode": {
    "name": "ipython",
    "version": 3
   },
   "file_extension": ".py",
   "mimetype": "text/x-python",
   "name": "python",
   "nbconvert_exporter": "python",
   "pygments_lexer": "ipython3",
   "version": "3.12.9"
  }
 },
 "nbformat": 4,
 "nbformat_minor": 5
}
