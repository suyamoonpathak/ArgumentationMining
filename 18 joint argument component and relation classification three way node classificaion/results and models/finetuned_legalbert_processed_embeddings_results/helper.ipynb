{
 "cells": [
  {
   "cell_type": "code",
   "execution_count": 1,
   "id": "01f9ee6c",
   "metadata": {},
   "outputs": [
    {
     "name": "stdout",
     "output_type": "stream",
     "text": [
      "Average Node Classification Metrics Across Folds:\n",
      "  Accuracy: 0.8961\n",
      "  Precision: 0.7979\n",
      "  Recall: 0.8222\n",
      "  F1: 0.7954\n",
      "\n",
      "Average Edge Classification Metrics Across Folds:\n",
      "  Accuracy: 0.8476\n",
      "  Precision: 0.8014\n",
      "  Recall: 0.9152\n",
      "  F1: 0.8342\n"
     ]
    }
   ],
   "source": [
    "import json\n",
    "from pathlib import Path\n",
    "\n",
    "# Directory prefix for the folds\n",
    "FOLD_PREFIX = \"results/joint_fold_\"\n",
    "NUM_FOLDS = 10\n",
    "\n",
    "# Initialize accumulators for metrics\n",
    "node_metrics_sum = {\"accuracy\": 0.0, \"precision\": 0.0, \"recall\": 0.0, \"f1\": 0.0}\n",
    "edge_metrics_sum = {\"accuracy\": 0.0, \"precision\": 0.0, \"recall\": 0.0, \"f1\": 0.0}\n",
    "\n",
    "for fold_num in range(1, NUM_FOLDS + 1):\n",
    "    fold_dir = Path(f\"{FOLD_PREFIX}{fold_num}\")\n",
    "    metrics_file = fold_dir / \"joint_metrics.json\"\n",
    "    \n",
    "    if not metrics_file.exists():\n",
    "        print(f\"Warning: Metrics file not found for fold {fold_num} at {metrics_file}\")\n",
    "        continue\n",
    "    \n",
    "    with open(metrics_file, \"r\") as f:\n",
    "        metrics = json.load(f)\n",
    "    \n",
    "    # Accumulate node classification metrics\n",
    "    for key in node_metrics_sum.keys():\n",
    "        node_val = metrics.get(\"node_classification\", {}).get(key)\n",
    "        if node_val is not None:\n",
    "            node_metrics_sum[key] += node_val\n",
    "    \n",
    "    # Accumulate edge classification metrics\n",
    "    for key in edge_metrics_sum.keys():\n",
    "        edge_val = metrics.get(\"edge_classification\", {}).get(key)\n",
    "        if edge_val is not None:\n",
    "            edge_metrics_sum[key] += edge_val\n",
    "\n",
    "# Calculate averages\n",
    "node_metrics_avg = {k: v / NUM_FOLDS for k, v in node_metrics_sum.items()}\n",
    "edge_metrics_avg = {k: v / NUM_FOLDS for k, v in edge_metrics_sum.items()}\n",
    "\n",
    "print(\"Average Node Classification Metrics Across Folds:\")\n",
    "for metric, value in node_metrics_avg.items():\n",
    "    print(f\"  {metric.capitalize()}: {value:.4f}\")\n",
    "\n",
    "print(\"\\nAverage Edge Classification Metrics Across Folds:\")\n",
    "for metric, value in edge_metrics_avg.items():\n",
    "    print(f\"  {metric.capitalize()}: {value:.4f}\")\n"
   ]
  },
  {
   "cell_type": "code",
   "execution_count": null,
   "id": "0ae29bbe",
   "metadata": {},
   "outputs": [],
   "source": []
  }
 ],
 "metadata": {
  "kernelspec": {
   "display_name": "base",
   "language": "python",
   "name": "python3"
  },
  "language_info": {
   "codemirror_mode": {
    "name": "ipython",
    "version": 3
   },
   "file_extension": ".py",
   "mimetype": "text/x-python",
   "name": "python",
   "nbconvert_exporter": "python",
   "pygments_lexer": "ipython3",
   "version": "3.12.2"
  }
 },
 "nbformat": 4,
 "nbformat_minor": 5
}
