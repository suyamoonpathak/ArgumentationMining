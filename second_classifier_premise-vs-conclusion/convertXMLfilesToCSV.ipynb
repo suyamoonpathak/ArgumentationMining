{
 "cells": [
  {
   "cell_type": "code",
   "execution_count": 1,
   "id": "c7f4d85c",
   "metadata": {},
   "outputs": [
    {
     "name": "stdout",
     "output_type": "stream",
     "text": [
      "All CSV files have been created successfully in the 'csv_files' directory.\n"
     ]
    }
   ],
   "source": [
    "import os\n",
    "import xml.etree.ElementTree as ET\n",
    "import pandas as pd\n",
    "\n",
    "# Directories\n",
    "xml_directory = \"xml_files\"\n",
    "csv_directory = \"csv_files\"\n",
    "\n",
    "# Create 'csv_files' directory if it doesn't exist\n",
    "if not os.path.exists(csv_directory):\n",
    "    os.makedirs(csv_directory)\n",
    "\n",
    "# Check if XML directory exists\n",
    "if not os.path.exists(xml_directory):\n",
    "    print(f\"Error: Directory '{xml_directory}' does not exist.\")\n",
    "else:\n",
    "    # Iterate through all XML files in the directory\n",
    "    for filename in os.listdir(xml_directory):\n",
    "        if filename.endswith(\".xml\"):\n",
    "            file_path = os.path.join(xml_directory, filename)\n",
    "            \n",
    "            # Parse the XML file\n",
    "            tree = ET.parse(file_path)\n",
    "            root = tree.getroot()\n",
    "            \n",
    "            # List to store data for CSV\n",
    "            csv_data = []\n",
    "\n",
    "            # Extract data from 'prem' and 'conc' tags\n",
    "            for prem in root.findall(\".//prem\"):\n",
    "                text = prem.text.strip() if prem.text else \"\"\n",
    "                csv_data.append({\"text\": text, \"label\": \"prem\"})\n",
    "            \n",
    "            for conc in root.findall(\".//conc\"):\n",
    "                text = conc.text.strip() if conc.text else \"\"\n",
    "                csv_data.append({\"text\": text, \"label\": \"conc\"})\n",
    "\n",
    "            # Convert the data to a DataFrame\n",
    "            df = pd.DataFrame(csv_data)\n",
    "\n",
    "            # Save the DataFrame to a CSV file\n",
    "            csv_file_name = os.path.splitext(filename)[0] + \".csv\"\n",
    "            csv_file_path = os.path.join(csv_directory, csv_file_name)\n",
    "            df.to_csv(csv_file_path, index=False)\n",
    "\n",
    "    print(f\"All CSV files have been created successfully in the '{csv_directory}' directory.\")\n"
   ]
  },
  {
   "cell_type": "code",
   "execution_count": null,
   "id": "0e621153",
   "metadata": {},
   "outputs": [],
   "source": []
  }
 ],
 "metadata": {
  "kernelspec": {
   "display_name": "base",
   "language": "python",
   "name": "python3"
  },
  "language_info": {
   "codemirror_mode": {
    "name": "ipython",
    "version": 3
   },
   "file_extension": ".py",
   "mimetype": "text/x-python",
   "name": "python",
   "nbconvert_exporter": "python",
   "pygments_lexer": "ipython3",
   "version": "3.12.2"
  }
 },
 "nbformat": 4,
 "nbformat_minor": 5
}
