{
 "cells": [
  {
   "cell_type": "code",
   "execution_count": null,
   "id": "979d5534",
   "metadata": {},
   "outputs": [
    {
     "name": "stderr",
     "output_type": "stream",
     "text": [
      "/home/suyamoon/data/miniconda3/envs/argmining/lib/python3.12/site-packages/sklearn/utils/_param_validation.py:11: UserWarning: A NumPy version >=1.22.4 and <2.3.0 is required for this version of SciPy (detected version 2.3.1)\n",
      "  from scipy.sparse import csr_matrix, issparse\n"
     ]
    },
    {
     "name": "stdout",
     "output_type": "stream",
     "text": [
      "Initializing the legal-triplet-extractor model...\n"
     ]
    },
    {
     "data": {
      "application/vnd.jupyter.widget-view+json": {
       "model_id": "a817a869f8a5471fb37c9bee7673b07d",
       "version_major": 2,
       "version_minor": 0
      },
      "text/plain": [
       "config.json:   0%|          | 0.00/694 [00:00<?, ?B/s]"
      ]
     },
     "metadata": {},
     "output_type": "display_data"
    },
    {
     "data": {
      "application/vnd.jupyter.widget-view+json": {
       "model_id": "065df580581a41dcaa4ca0b8050aaa3f",
       "version_major": 2,
       "version_minor": 0
      },
      "text/plain": [
       "model.safetensors.index.json:   0%|          | 0.00/20.9k [00:00<?, ?B/s]"
      ]
     },
     "metadata": {},
     "output_type": "display_data"
    },
    {
     "data": {
      "application/vnd.jupyter.widget-view+json": {
       "model_id": "4a655d3c3e3342b084906f29df62820b",
       "version_major": 2,
       "version_minor": 0
      },
      "text/plain": [
       "Downloading shards:   0%|          | 0/4 [00:00<?, ?it/s]"
      ]
     },
     "metadata": {},
     "output_type": "display_data"
    },
    {
     "data": {
      "application/vnd.jupyter.widget-view+json": {
       "model_id": "1d24af4520ac4498bdef33600b4d2f5b",
       "version_major": 2,
       "version_minor": 0
      },
      "text/plain": [
       "model-00001-of-00004.safetensors:   0%|          | 0.00/5.00G [00:00<?, ?B/s]"
      ]
     },
     "metadata": {},
     "output_type": "display_data"
    },
    {
     "data": {
      "application/vnd.jupyter.widget-view+json": {
       "model_id": "27f308bba9744857bc07c804348adec2",
       "version_major": 2,
       "version_minor": 0
      },
      "text/plain": [
       "model-00002-of-00004.safetensors:   0%|          | 0.00/4.98G [00:00<?, ?B/s]"
      ]
     },
     "metadata": {},
     "output_type": "display_data"
    },
    {
     "data": {
      "application/vnd.jupyter.widget-view+json": {
       "model_id": "d0813d4dcaf249c4919a5912e83fb684",
       "version_major": 2,
       "version_minor": 0
      },
      "text/plain": [
       "model-00003-of-00004.safetensors:   0%|          | 0.00/4.98G [00:00<?, ?B/s]"
      ]
     },
     "metadata": {},
     "output_type": "display_data"
    },
    {
     "data": {
      "application/vnd.jupyter.widget-view+json": {
       "model_id": "8018e69704b54460af3e0331aa4e9d1a",
       "version_major": 2,
       "version_minor": 0
      },
      "text/plain": [
       "model-00004-of-00004.safetensors:   0%|          | 0.00/2.11G [00:00<?, ?B/s]"
      ]
     },
     "metadata": {},
     "output_type": "display_data"
    },
    {
     "data": {
      "application/vnd.jupyter.widget-view+json": {
       "model_id": "3bad96cc04ff4964a6604ed7c8d7f3a2",
       "version_major": 2,
       "version_minor": 0
      },
      "text/plain": [
       "Loading checkpoint shards:   0%|          | 0/4 [00:00<?, ?it/s]"
      ]
     },
     "metadata": {},
     "output_type": "display_data"
    },
    {
     "name": "stderr",
     "output_type": "stream",
     "text": [
      "Some weights of GemmaForTokenClassification were not initialized from the model checkpoint at Exploration-Lab/legal-triplet-extractor and are newly initialized: ['score.bias', 'score.weight']\n",
      "You should probably TRAIN this model on a down-stream task to be able to use it for predictions and inference.\n"
     ]
    },
    {
     "data": {
      "application/vnd.jupyter.widget-view+json": {
       "model_id": "4a72a403f5a7428d8a37eefcd0733820",
       "version_major": 2,
       "version_minor": 0
      },
      "text/plain": [
       "tokenizer_config.json:   0%|          | 0.00/2.16k [00:00<?, ?B/s]"
      ]
     },
     "metadata": {},
     "output_type": "display_data"
    },
    {
     "data": {
      "application/vnd.jupyter.widget-view+json": {
       "model_id": "e3b318d59b774578a27dd368c957a73c",
       "version_major": 2,
       "version_minor": 0
      },
      "text/plain": [
       "tokenizer.model:   0%|          | 0.00/4.24M [00:00<?, ?B/s]"
      ]
     },
     "metadata": {},
     "output_type": "display_data"
    },
    {
     "data": {
      "application/vnd.jupyter.widget-view+json": {
       "model_id": "447bda1e98db4d2cb18f752c33b01b78",
       "version_major": 2,
       "version_minor": 0
      },
      "text/plain": [
       "tokenizer.json:   0%|          | 0.00/17.5M [00:00<?, ?B/s]"
      ]
     },
     "metadata": {},
     "output_type": "display_data"
    },
    {
     "data": {
      "application/vnd.jupyter.widget-view+json": {
       "model_id": "4fd0b069abcc477a9afe23f21721c239",
       "version_major": 2,
       "version_minor": 0
      },
      "text/plain": [
       "special_tokens_map.json:   0%|          | 0.00/636 [00:00<?, ?B/s]"
      ]
     },
     "metadata": {},
     "output_type": "display_data"
    },
    {
     "name": "stderr",
     "output_type": "stream",
     "text": [
      "Device set to use cuda:0\n"
     ]
    },
    {
     "name": "stdout",
     "output_type": "stream",
     "text": [
      "Model initialized successfully!\n"
     ]
    }
   ],
   "source": [
    "import pandas as pd\n",
    "from transformers import pipeline\n",
    "import os\n",
    "\n",
    "print(\"Initializing the legal-triplet-extractor model...\")\n",
    "\n",
    "HUGGING_FACE_TOKEN = \"##############\" \n",
    "\n",
    "try:\n",
    "    # Pass the token to the pipeline constructor\n",
    "    triplet_extractor = pipeline(\n",
    "        \"ner\",\n",
    "        model=\"Exploration-Lab/legal-triplet-extractor\",\n",
    "        aggregation_strategy=\"simple\",\n",
    "        token=HUGGING_FACE_TOKEN \n",
    "    )\n",
    "    print(\"Model initialized successfully!\")\n",
    "except Exception as e:\n",
    "    print(f\"Error initializing model: {e}\")\n",
    "    print(\"Please ensure your Hugging Face token is correct and has 'read' access to the model.\")\n",
    "    print(\"Also, confirm you have an active internet connection and the model name is correct.\")\n",
    "    exit()"
   ]
  },
  {
   "cell_type": "code",
   "execution_count": null,
   "id": "88dcc5b7",
   "metadata": {},
   "outputs": [
    {
     "name": "stdout",
     "output_type": "stream",
     "text": [
      "Created output folder: ./output_triplet_extraction\n"
     ]
    }
   ],
   "source": [
    "input_folder = '../7 Dataset/prem_vs_conc_csv_files/all'\n",
    "output_folder = './output_triplet_extraction' \n",
    "if not os.path.exists(output_folder):\n",
    "    os.makedirs(output_folder)\n",
    "    print(f\"Created output folder: {output_folder}\")\n",
    "\n",
    "\n"
   ]
  },
  {
   "cell_type": "code",
   "execution_count": null,
   "id": "434f6dfd",
   "metadata": {},
   "outputs": [
    {
     "name": "stderr",
     "output_type": "stream",
     "text": [
      "Asking to truncate to max_length but no maximum length is provided and the model has no predefined maximum length. Default to no truncation.\n"
     ]
    },
    {
     "name": "stdout",
     "output_type": "stream",
     "text": [
      "Starting to process CSV files from: ../7 Dataset/prem_vs_conc_csv_files/all\n",
      "\n",
      "Processing file: R2021_World Duty Free v. Commission.csv\n",
      "Loaded 147 rows from R2021_World Duty Free v. Commission.csv\n"
     ]
    },
    {
     "name": "stderr",
     "output_type": "stream",
     "text": [
      "You seem to be using the pipelines sequentially on GPU. In order to maximize efficiency please use a dataset\n"
     ]
    },
    {
     "name": "stdout",
     "output_type": "stream",
     "text": [
      "Processed and saved results to: ./output_triplet_extraction/processed_R2021_World Duty Free v. Commission.csv\n",
      "\n",
      "Processing file: A2017_Ellinikos Chrysos AE Metalleion kai Viomichanias Chrysou v European Commission.csv\n",
      "Loaded 33 rows from A2017_Ellinikos Chrysos AE Metalleion kai Viomichanias Chrysou v European Commission.csv\n",
      "Processed and saved results to: ./output_triplet_extraction/processed_A2017_Ellinikos Chrysos AE Metalleion kai Viomichanias Chrysou v European Commission.csv\n",
      "\n",
      "Processing file: R2013_Telefónica SA v European Commission.csv\n",
      "Loaded 37 rows from R2013_Telefónica SA v European Commission.csv\n",
      "Processed and saved results to: ./output_triplet_extraction/processed_R2013_Telefónica SA v European Commission.csv\n",
      "\n",
      "Processing file: A2017_European Commission v Italian Republic_DT.csv\n",
      "Loaded 52 rows from A2017_European Commission v Italian Republic_DT.csv\n",
      "Processed and saved results to: ./output_triplet_extraction/processed_A2017_European Commission v Italian Republic_DT.csv\n",
      "\n",
      "Processing file: R2004_Italian Republic v Commission of the European Communities.csv\n",
      "Loaded 79 rows from R2004_Italian Republic v Commission of the European Communities.csv\n",
      "Processed and saved results to: ./output_triplet_extraction/processed_R2004_Italian Republic v Commission of the European Communities.csv\n",
      "\n",
      "Processing file: A2013_Frucona Košice a.s. v European Commission.csv\n",
      "Loaded 43 rows from A2013_Frucona Košice a.s. v European Commission.csv\n",
      "Processed and saved results to: ./output_triplet_extraction/processed_A2013_Frucona Košice a.s. v European Commission.csv\n",
      "\n",
      "Processing file: A2017_European Commission v TV2_Danmark A_S.csv\n",
      "Loaded 33 rows from A2017_European Commission v TV2_Danmark A_S.csv\n",
      "Processed and saved results to: ./output_triplet_extraction/processed_A2017_European Commission v TV2_Danmark A_S.csv\n",
      "\n",
      "Processing file: R2011_France Télécom SA v European Commission.csv\n",
      "Loaded 96 rows from R2011_France Télécom SA v European Commission.csv\n",
      "Processed and saved results to: ./output_triplet_extraction/processed_R2011_France Télécom SA v European Commission.csv\n",
      "\n",
      "Processing file: R2012_European Commission v Électricité de France (EDF).csv\n",
      "Loaded 51 rows from R2012_European Commission v Électricité de France (EDF).csv\n",
      "Processed and saved results to: ./output_triplet_extraction/processed_R2012_European Commission v Électricité de France (EDF).csv\n",
      "\n",
      "Processing file: R2013_3F, formerly Specialarbejderforbundet i Danmark (SID) v European Commission.csv\n",
      "Loaded 52 rows from R2013_3F, formerly Specialarbejderforbundet i Danmark (SID) v European Commission.csv\n",
      "Processed and saved results to: ./output_triplet_extraction/processed_R2013_3F, formerly Specialarbejderforbundet i Danmark (SID) v European Commission.csv\n",
      "\n",
      "Processing file: R1997_Tiercé Ladbroke SA v Commission of the European Communities.csv\n",
      "Loaded 25 rows from R1997_Tiercé Ladbroke SA v Commission of the European Communities.csv\n",
      "Processed and saved results to: ./output_triplet_extraction/processed_R1997_Tiercé Ladbroke SA v Commission of the European Communities.csv\n",
      "\n",
      "Processing file: A2008_Commission of the European Communities v Salzgitter AG.csv\n",
      "Loaded 56 rows from A2008_Commission of the European Communities v Salzgitter AG.csv\n",
      "Processed and saved results to: ./output_triplet_extraction/processed_A2008_Commission of the European Communities v Salzgitter AG.csv\n",
      "\n",
      "Processing file: R2016_DTS Distribuidora de Televisión Digital.csv\n",
      "Loaded 96 rows from R2016_DTS Distribuidora de Televisión Digital.csv\n",
      "Processed and saved results to: ./output_triplet_extraction/processed_R2016_DTS Distribuidora de Televisión Digital.csv\n",
      "\n",
      "Processing file: R2004_Daewoo Electronics Manufacturing España SA and Territorio Histórico de Álava - Diputación Foral de Álava v Commission of the European Communities.csv\n",
      "Loaded 24 rows from R2004_Daewoo Electronics Manufacturing España SA and Territorio Histórico de Álava - Diputación Foral de Álava v Commission of the European Communities.csv\n",
      "Processed and saved results to: ./output_triplet_extraction/processed_R2004_Daewoo Electronics Manufacturing España SA and Territorio Histórico de Álava - Diputación Foral de Álava v Commission of the European Communities.csv\n",
      "\n",
      "Processing file: R2016_European Commission v Hansestadt Lübeck.csv\n",
      "Loaded 76 rows from R2016_European Commission v Hansestadt Lübeck.csv\n",
      "Processed and saved results to: ./output_triplet_extraction/processed_R2016_European Commission v Hansestadt Lübeck.csv\n",
      "\n",
      "Processing file: A2009_3F v Commission of the European Communities.csv\n",
      "Loaded 63 rows from A2009_3F v Commission of the European Communities.csv\n",
      "Processed and saved results to: ./output_triplet_extraction/processed_A2009_3F v Commission of the European Communities.csv\n",
      "\n",
      "Processing file: A2018_Dirk Andres v European Commission.csv\n",
      "Loaded 74 rows from A2018_Dirk Andres v European Commission.csv\n",
      "Processed and saved results to: ./output_triplet_extraction/processed_A2018_Dirk Andres v European Commission.csv\n",
      "\n",
      "Processing file: A2016_European Commission v Aer Lingus Ltd and Ryanair Designated Activity Company.csv\n",
      "Loaded 66 rows from A2016_European Commission v Aer Lingus Ltd and Ryanair Designated Activity Company.csv\n",
      "Processed and saved results to: ./output_triplet_extraction/processed_A2016_European Commission v Aer Lingus Ltd and Ryanair Designated Activity Company.csv\n",
      "\n",
      "Processing file: R2006_European Commission v Italian Republic.csv\n",
      "Loaded 37 rows from R2006_European Commission v Italian Republic.csv\n",
      "Processed and saved results to: ./output_triplet_extraction/processed_R2006_European Commission v Italian Republic.csv\n",
      "\n",
      "Processing file: A2013_European Commission v Ireland and Others.csv\n",
      "Loaded 46 rows from A2013_European Commission v Ireland and Others.csv\n",
      "Processed and saved results to: ./output_triplet_extraction/processed_A2013_European Commission v Ireland and Others.csv\n",
      "\n",
      "Processing file: A2018_Scuola Elementare Maria Montessori Srl v European Commission.csv\n",
      "Loaded 112 rows from A2018_Scuola Elementare Maria Montessori Srl v European Commission.csv\n",
      "Processed and saved results to: ./output_triplet_extraction/processed_A2018_Scuola Elementare Maria Montessori Srl v European Commission.csv\n",
      "\n",
      "Processing file: R2021_FVE Holýšov I and Others v Commission.csv\n",
      "Loaded 55 rows from R2021_FVE Holýšov I and Others v Commission.csv\n",
      "Processed and saved results to: ./output_triplet_extraction/processed_R2021_FVE Holýšov I and Others v Commission.csv\n",
      "\n",
      "Processing file: A2016_European_Commission_v_World_Duty_Free.csv\n",
      "Loaded 64 rows from A2016_European_Commission_v_World_Duty_Free.csv\n",
      "Processed and saved results to: ./output_triplet_extraction/processed_A2016_European_Commission_v_World_Duty_Free.csv\n",
      "\n",
      "Processing file: R2016_Netherlands Maritime Technology Association formerly Scheepsbouw Nederland v European Commission.csv\n",
      "Loaded 77 rows from R2016_Netherlands Maritime Technology Association formerly Scheepsbouw Nederland v European Commission.csv\n",
      "Processed and saved results to: ./output_triplet_extraction/processed_R2016_Netherlands Maritime Technology Association formerly Scheepsbouw Nederland v European Commission.csv\n",
      "\n",
      "Processing file: R2010_AceaElectrabel Produzione SpA v European Commission.csv\n",
      "Loaded 69 rows from R2010_AceaElectrabel Produzione SpA v European Commission.csv\n",
      "Processed and saved results to: ./output_triplet_extraction/processed_R2010_AceaElectrabel Produzione SpA v European Commission.csv\n",
      "\n",
      "Processing file: A2012_BNP Paribas and Banca Nazionale del Lavoro SpA (BNL) v European Commission.csv\n",
      "Loaded 49 rows from A2012_BNP Paribas and Banca Nazionale del Lavoro SpA (BNL) v European Commission.csv\n",
      "Processed and saved results to: ./output_triplet_extraction/processed_A2012_BNP Paribas and Banca Nazionale del Lavoro SpA (BNL) v European Commission.csv\n",
      "\n",
      "Processing file: R2017_European Commission v Frucona Košice a.csv\n",
      "Loaded 53 rows from R2017_European Commission v Frucona Košice a.csv\n",
      "Processed and saved results to: ./output_triplet_extraction/processed_R2017_European Commission v Frucona Košice a.csv\n",
      "\n",
      "Processing file: R2016_Orange v European Commission.csv\n",
      "Loaded 65 rows from R2016_Orange v European Commission.csv\n",
      "Processed and saved results to: ./output_triplet_extraction/processed_R2016_Orange v European Commission.csv\n",
      "\n",
      "Processing file: R2011_European Commission v Kronoply GmbH & Co.csv\n",
      "Loaded 41 rows from R2011_European Commission v Kronoply GmbH & Co.csv\n",
      "Processed and saved results to: ./output_triplet_extraction/processed_R2011_European Commission v Kronoply GmbH & Co.csv\n",
      "\n",
      "Processing file: R2002_associação dos refinadores de açúcar portugueses.csv\n",
      "Loaded 111 rows from R2002_associação dos refinadores de açúcar portugueses.csv\n",
      "Processed and saved results to: ./output_triplet_extraction/processed_R2002_associação dos refinadores de açúcar portugueses.csv\n",
      "\n",
      "Processing file: R2004_Ramondín SA and Ramondín Cápsulas SA (C-186_02 P) and Territorio Histórico de Álava - Diputación Foral de Álava (C-188_02 P) v Commission of the European Communities.csv\n",
      "Loaded 30 rows from R2004_Ramondín SA and Ramondín Cápsulas SA (C-186_02 P) and Territorio Histórico de Álava - Diputación Foral de Álava (C-188_02 P) v Commission of the European Communities.csv\n",
      "Processed and saved results to: ./output_triplet_extraction/processed_R2004_Ramondín SA and Ramondín Cápsulas SA (C-186_02 P) and Territorio Histórico de Álava - Diputación Foral de Álava (C-188_02 P) v Commission of the European Communities.csv\n",
      "\n",
      "Processing file: R2016_Hellenic Republic v European Commission.csv\n",
      "Loaded 72 rows from R2016_Hellenic Republic v European Commission.csv\n",
      "Processed and saved results to: ./output_triplet_extraction/processed_R2016_Hellenic Republic v European Commission.csv\n",
      "\n",
      "Processing file: A2011_European Commission (C-106_09 P) and Kingdom of Spain (C-107_09 P) v Government of Gibraltar and United Kingdom of Great Britain and Northern Ireland.csv\n",
      "Loaded 50 rows from A2011_European Commission (C-106_09 P) and Kingdom of Spain (C-107_09 P) v Government of Gibraltar and United Kingdom of Great Britain and Northern Ireland.csv\n",
      "Processed and saved results to: ./output_triplet_extraction/processed_A2011_European Commission (C-106_09 P) and Kingdom of Spain (C-107_09 P) v Government of Gibraltar and United Kingdom of Great Britain and Northern Ireland.csv\n",
      "\n",
      "Processing file: R2021_Prosegur Compañía de Seguridad SA, established in Madrid (Spain) v Commission.csv\n",
      "Loaded 148 rows from R2021_Prosegur Compañía de Seguridad SA, established in Madrid (Spain) v Commission.csv\n",
      "Processed and saved results to: ./output_triplet_extraction/processed_R2021_Prosegur Compañía de Seguridad SA, established in Madrid (Spain) v Commission.csv\n",
      "\n",
      "Processing file: A2018_Commission v Spain.csv\n",
      "Loaded 98 rows from A2018_Commission v Spain.csv\n",
      "Processed and saved results to: ./output_triplet_extraction/processed_A2018_Commission v Spain.csv\n",
      "\n",
      "Processing file: R2015_European Commission v MOL Magyar Olaj- és Gázipari Nyrt.csv\n",
      "Loaded 45 rows from R2015_European Commission v MOL Magyar Olaj- és Gázipari Nyrt.csv\n",
      "Processed and saved results to: ./output_triplet_extraction/processed_R2015_European Commission v MOL Magyar Olaj- és Gázipari Nyrt.csv\n",
      "\n",
      "Processing file: R2000_French Republic v Ladbroke Racing Ltd and Commission of the European Communitie.csv\n",
      "Loaded 73 rows from R2000_French Republic v Ladbroke Racing Ltd and Commission of the European Communitie.csv\n",
      "Processed and saved results to: ./output_triplet_extraction/processed_R2000_French Republic v Ladbroke Racing Ltd and Commission of the European Communitie.csv\n",
      "\n",
      "Processing file: R2017_Viasat Broadcasting UK Ltd v European Commission.csv\n",
      "Loaded 47 rows from R2017_Viasat Broadcasting UK Ltd v European Commission.csv\n",
      "Processed and saved results to: ./output_triplet_extraction/processed_R2017_Viasat Broadcasting UK Ltd v European Commission.csv\n",
      "\n",
      "Processing file: A2010_NDSHT Nya Destination Stockholm Hotell & Teaterpaket AB v European Commission.csv\n",
      "Loaded 38 rows from A2010_NDSHT Nya Destination Stockholm Hotell & Teaterpaket AB v European Commission.csv\n",
      "Processed and saved results to: ./output_triplet_extraction/processed_A2010_NDSHT Nya Destination Stockholm Hotell & Teaterpaket AB v European Commission.csv\n",
      "\n",
      "Processing file: A2009_Commission of the European Communities v Koninklijke FrieslandCampina NV_M.csv\n",
      "Loaded 52 rows from A2009_Commission of the European Communities v Koninklijke FrieslandCampina NV_M.csv\n",
      "Processed and saved results to: ./output_triplet_extraction/processed_A2009_Commission of the European Communities v Koninklijke FrieslandCampina NV_M.csv\n",
      "\n",
      "All CSV files processed!\n"
     ]
    }
   ],
   "source": [
    "print(f\"Starting to process CSV files from: {input_folder}\")\n",
    "\n",
    "csv_files = [f for f in os.listdir(input_folder) if f.endswith('.csv')]\n",
    "\n",
    "if not csv_files:\n",
    "    print(f\"No CSV files found in the input folder: {input_folder}. Please check the path and contents.\")\n",
    "else:\n",
    "    for csv_file in csv_files:\n",
    "        input_file_path = os.path.join(input_folder, csv_file)\n",
    "        output_file_path = os.path.join(output_folder, f\"processed_{csv_file}\")\n",
    "\n",
    "        print(f\"\\nProcessing file: {csv_file}\")\n",
    "        try:\n",
    "            df = pd.read_csv(input_file_path)\n",
    "            print(f\"Loaded {len(df)} rows from {csv_file}\")\n",
    "\n",
    "            df['dhananjay_events'] = [[] for _ in range(len(df))]\n",
    "\n",
    "            for index, row in df.iterrows():\n",
    "                text_to_process = row['text']\n",
    "                if pd.isna(text_to_process):\n",
    "                    print(f\"Skipping row {index} in {csv_file} due to missing text.\")\n",
    "                    continue\n",
    "\n",
    "                try:\n",
    "                    extracted_triplets = triplet_extractor(text_to_process)\n",
    "                    df.at[index, 'dhananjay_events'] = extracted_triplets\n",
    "                except Exception as e:\n",
    "                    print(f\"Error extracting triplets for row {index} in {csv_file}: {e}\")\n",
    "                    df.at[index, 'dhananjay_events'] = []\n",
    "\n",
    "            df.to_csv(output_file_path, index=False)\n",
    "            print(f\"Processed and saved results to: {output_file_path}\")\n",
    "\n",
    "        except FileNotFoundError:\n",
    "            print(f\"Error: The file {input_file_path} was not found.\")\n",
    "        except pd.errors.EmptyDataError:\n",
    "            print(f\"Error: The file {input_file_path} is empty.\")\n",
    "        except Exception as e:\n",
    "            print(f\"An unexpected error occurred while processing {csv_file}: {e}\")\n",
    "\n",
    "print(\"\\nAll CSV files processed!\")"
   ]
  },
  {
   "cell_type": "code",
   "execution_count": null,
   "id": "82ff3ad4",
   "metadata": {},
   "outputs": [],
   "source": []
  }
 ],
 "metadata": {
  "kernelspec": {
   "display_name": "argmining",
   "language": "python",
   "name": "python3"
  },
  "language_info": {
   "codemirror_mode": {
    "name": "ipython",
    "version": 3
   },
   "file_extension": ".py",
   "mimetype": "text/x-python",
   "name": "python",
   "nbconvert_exporter": "python",
   "pygments_lexer": "ipython3",
   "version": "3.12.9"
  }
 },
 "nbformat": 4,
 "nbformat_minor": 5
}
